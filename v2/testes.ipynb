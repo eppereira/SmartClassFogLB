{
 "cells": [
  {
   "cell_type": "code",
   "execution_count": 1,
   "metadata": {},
   "outputs": [],
   "source": [
    "import json\n",
    "import statistics \n",
    "from sim import *\n",
    "import os"
   ]
  },
  {
   "cell_type": "code",
   "execution_count": 8,
   "metadata": {},
   "outputs": [
    {
     "name": "stdout",
     "output_type": "stream",
     "text": [
      "Start Time: 1562200654.304657\n",
      "elapsed time:  52.05891966819763\n"
     ]
    }
   ],
   "source": [
    "file = './result/teste 0'\n",
    "\n",
    "try:\n",
    "    os.remove(file)\n",
    "except:\n",
    "    pass\n",
    "\n",
    "t0 = time.time()\n",
    "print('Start Time:',t0)\n",
    "simulations = [Simulation(sensors=200 ,taskResource='soft', fogs=20, fogResources='large', requests=50)]\n",
    "for s in simulations:\n",
    "    s.sim(file)\n",
    "tf = time.time()\n",
    "print('elapsed time: ', (tf-t0))"
   ]
  },
  {
   "cell_type": "code",
   "execution_count": 9,
   "metadata": {},
   "outputs": [],
   "source": [
    "with open(file,'r') as f:\n",
    "    data = f.read()\n",
    "    data = \"[\" + data.replace(\"}{\", \"},{\", data.count(\"}\")-1) + \"]\"\n",
    "    json_data = json.loads(data)"
   ]
  },
  {
   "cell_type": "code",
   "execution_count": 10,
   "metadata": {
    "scrolled": false
   },
   "outputs": [
    {
     "data": {
      "text/plain": [
       "{'cpu': 10,\n",
       " 'mem': 20,\n",
       " 'disk': 100,\n",
       " 'net': 1,\n",
       " 'time': 30,\n",
       " 'times': {'bornTime': 1562200654.311023,\n",
       "  'enqueueTime': 1562200654.3110561,\n",
       "  'dequeueTime': 1562200654.3112843,\n",
       "  'processStart': 1562200654.3144102,\n",
       "  'processEnd': 1562200654.3396022,\n",
       "  'queueLength': 1},\n",
       " 'info': {'sensor': 0, 'seq': 0, 'fog': 3, 'id_teste': './result/teste 0'},\n",
       " 'priority': 0}"
      ]
     },
     "execution_count": 10,
     "metadata": {},
     "output_type": "execute_result"
    }
   ],
   "source": [
    "data = json_data\n",
    "data[0]"
   ]
  },
  {
   "cell_type": "code",
   "execution_count": 11,
   "metadata": {},
   "outputs": [
    {
     "name": "stdout",
     "output_type": "stream",
     "text": [
      "tempo total 600.5603346347808\n",
      "tempo de processamento 65.53199429512024\n",
      "tempo de fila 534.789201450348\n"
     ]
    }
   ],
   "source": [
    "totalTime = list()\n",
    "processTime = list()\n",
    "queueTime = list()\n",
    "\n",
    "fogCount = dict()\n",
    "\n",
    "for t in data:\n",
    "    tTime = t['times']['processEnd'] - t['times']['bornTime']\n",
    "    totalTime.append(tTime)\n",
    "    pTime = t['times']['processEnd'] - t['times']['processStart']\n",
    "    processTime.append(pTime)\n",
    "    qTime = t['times']['processStart'] - t['times']['enqueueTime']\n",
    "    queueTime.append(qTime)\n",
    "    try:\n",
    "        fogCount[t['info']['fog']] += 1\n",
    "    except:\n",
    "        fogCount[t['info']['fog']] = 1\n",
    "\n",
    "print('tempo total', statistics.mean(totalTime)*1000)\n",
    "print('tempo de processamento', statistics.mean(processTime)*1000)\n",
    "print('tempo de fila', statistics.mean(queueTime)*1000)"
   ]
  },
  {
   "cell_type": "code",
   "execution_count": 12,
   "metadata": {},
   "outputs": [
    {
     "data": {
      "text/plain": [
       "{3: 476,\n",
       " 13: 490,\n",
       " 14: 534,\n",
       " 8: 518,\n",
       " 1: 544,\n",
       " 16: 494,\n",
       " 0: 524,\n",
       " 17: 489,\n",
       " 15: 543,\n",
       " 5: 493,\n",
       " 6: 485,\n",
       " 2: 514,\n",
       " 4: 473,\n",
       " 11: 489,\n",
       " 19: 504,\n",
       " 7: 492,\n",
       " 18: 503,\n",
       " 10: 494,\n",
       " 9: 477,\n",
       " 12: 464}"
      ]
     },
     "execution_count": 12,
     "metadata": {},
     "output_type": "execute_result"
    }
   ],
   "source": [
    "fogCount"
   ]
  },
  {
   "cell_type": "code",
   "execution_count": 13,
   "metadata": {
    "scrolled": true
   },
   "outputs": [
    {
     "data": {
      "text/plain": [
       "10000"
      ]
     },
     "execution_count": 13,
     "metadata": {},
     "output_type": "execute_result"
    }
   ],
   "source": [
    "len(data)"
   ]
  },
  {
   "cell_type": "code",
   "execution_count": null,
   "metadata": {},
   "outputs": [],
   "source": []
  }
 ],
 "metadata": {
  "kernelspec": {
   "display_name": "Python 3",
   "language": "python",
   "name": "python3"
  },
  "language_info": {
   "codemirror_mode": {
    "name": "ipython",
    "version": 3
   },
   "file_extension": ".py",
   "mimetype": "text/x-python",
   "name": "python",
   "nbconvert_exporter": "python",
   "pygments_lexer": "ipython3",
   "version": "3.7.3"
  }
 },
 "nbformat": 4,
 "nbformat_minor": 2
}
