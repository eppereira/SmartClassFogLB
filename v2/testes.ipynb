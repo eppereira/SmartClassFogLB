{
 "cells": [
  {
   "cell_type": "code",
   "execution_count": 1,
   "metadata": {},
   "outputs": [],
   "source": [
    "import json\n",
    "import statistics \n",
    "from sim import *\n",
    "import os\n"
   ]
  },
  {
   "cell_type": "code",
   "execution_count": null,
   "metadata": {},
   "outputs": [],
   "source": [
    "def testa(file, fogType='mixed', taskType='mixed', nReq=100):\n",
    "    # file = './result/teste 0'\n",
    "    try:\n",
    "        os.remove(file)\n",
    "    except:\n",
    "        pass\n",
    "\n",
    "    t0 = time.time()\n",
    "    print('\\nStart Time:',t0)\n",
    "    simulations = [Simulation(sensors=180, taskResource=taskType, fogs=9, fogResources=fogType, requests=nReq)]\n",
    "    for s in simulations:\n",
    "        s.sim(file)\n",
    "    tf = time.time()\n",
    "    print('End Time:',time.strftime('%X'))\n",
    "    print('elapsed time (s): ', (tf-t0))\n",
    "    with open(file,'r') as f:\n",
    "        data = f.read()\n",
    "        data = \"[\" + data.replace(\"}{\", \"},{\", data.count(\"}\")-1) + \"]\"\n",
    "        data = json.loads(data)\n",
    "\n",
    "    with open(file, 'w') as f:\n",
    "        f.write(json.dumps(data, indent=4))\n",
    "    return data\n",
    "\n"
   ]
  },
  {
   "cell_type": "code",
   "execution_count": null,
   "metadata": {},
   "outputs": [],
   "source": [
    "with open('testes.csv', 'r') as csvFile:\n",
    "    testes = csv.reader(csvFile)\n",
    "    for teste in testes:\n",
    "        print(teste)\n",
    "        file = './result/teste '+teste[0]\n",
    "        testa(file, teste[1], teste[2], int(teste[3]))"
   ]
  },
  {
   "cell_type": "code",
   "execution_count": null,
   "metadata": {},
   "outputs": [],
   "source": [
    "totalTime = list()\n",
    "processTime = list()\n",
    "queueTime = list()\n",
    "\n",
    "fogCount = dict()\n",
    "for t in data:\n",
    "    tTime = t['times']['processEnd'] - t['times']['bornTime']\n",
    "    totalTime.append(tTime)\n",
    "    pTime = t['times']['processEnd'] - t['times']['processStart']\n",
    "    processTime.append(pTime)\n",
    "    qTime = t['times']['processStart'] - t['times']['enqueueTime']\n",
    "    queueTime.append(qTime)\n",
    "    try:\n",
    "        fogCount[t['info']['fog']] += 1\n",
    "    except:\n",
    "        fogCount[t['info']['fog']] = 1\n",
    "\n",
    "print('tempo total', statistics.mean(totalTime)*1000)\n",
    "print('tempo de processamento', statistics.mean(processTime)*1000)\n",
    "print('tempo de fila', statistics.mean(queueTime)*1000)"
   ]
  },
  {
   "cell_type": "code",
   "execution_count": null,
   "metadata": {},
   "outputs": [],
   "source": [
    "fogCount"
   ]
  },
  {
   "cell_type": "code",
   "execution_count": null,
   "metadata": {
    "scrolled": true
   },
   "outputs": [],
   "source": [
    "len(data)"
   ]
  }
 ],
 "metadata": {
  "kernelspec": {
   "display_name": "Python 3",
   "language": "python",
   "name": "python3"
  },
  "language_info": {
   "codemirror_mode": {
    "name": "ipython",
    "version": 3
   },
   "file_extension": ".py",
   "mimetype": "text/x-python",
   "name": "python",
   "nbconvert_exporter": "python",
   "pygments_lexer": "ipython3",
   "version": "3.7.3"
  }
 },
 "nbformat": 4,
 "nbformat_minor": 2
}
