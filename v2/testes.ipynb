{
 "cells": [
  {
   "cell_type": "code",
   "execution_count": 1,
   "metadata": {},
   "outputs": [],
   "source": [
    "import json\n",
    "import statistics\n",
    "import os\n",
    "\n",
    "from sim import *\n"
   ]
  },
  {
   "cell_type": "code",
   "execution_count": 2,
   "metadata": {},
   "outputs": [],
   "source": [
    "def testa(file, fogType='mixed', taskType='mixed', nReq=100):\n",
    "    # file = './result/teste 0'\n",
    "    try:\n",
    "        os.remove(file)\n",
    "    except:\n",
    "        pass\n",
    "\n",
    "    t0 = time.time()\n",
    "    print('Start Time:',time.strftime('%X'))\n",
    "    simulations = [Simulation(sensors=50, taskResource=taskType, fogs=9, fogResources=fogType, requests=nReq)]\n",
    "    for s in simulations:\n",
    "        s.sim(file)\n",
    "    tf = time.time()\n",
    "    print('End Time:',time.strftime('%X'))\n",
    "    print('elapsed time (s): ', (tf-t0))\n",
    "    with open(file,'r') as f:\n",
    "        data = f.read()\n",
    "        data = \"[\" + data.replace(\"}{\", \"},{\", data.count(\"}\")-1) + \"]\"\n",
    "        data = json.loads(data)\n",
    "\n",
    "    with open(file, 'w') as f:\n",
    "        f.write(json.dumps(data, indent=4))\n",
    "    return data"
   ]
  },
  {
   "cell_type": "code",
   "execution_count": null,
   "metadata": {},
   "outputs": [
    {
     "name": "stdout",
     "output_type": "stream",
     "text": [
      "\n",
      "['1', 'small', 'soft', '100']\n",
      "Start Time: 19:38:17\n",
      "End Time: 19:39:07\n",
      "elapsed time (s):  50.39608955383301\n",
      "tempo total 28.278791379928588\n",
      "tempo de processamento 25.28652334213257\n",
      "tempo de fila 2.9703735828399656\n",
      "\n",
      "['2', 'small', 'medium', '100']\n",
      "Start Time: 19:39:07\n",
      "End Time: 19:39:58\n",
      "elapsed time (s):  50.497231006622314\n",
      "tempo total 29.537536954879762\n",
      "tempo de processamento 25.362855243682862\n",
      "tempo de fila 4.152565622329711\n",
      "\n",
      "['3', 'small', 'hard', '100']\n",
      "Start Time: 19:39:58\n",
      "End Time: 19:40:48\n",
      "elapsed time (s):  50.39724850654602\n",
      "tempo total 28.5605140209198\n",
      "tempo de processamento 25.30993208885193\n",
      "tempo de fila 3.228071069717407\n",
      "\n",
      "['4', 'small', 'soft', '1000']\n",
      "Start Time: 19:40:49\n"
     ]
    }
   ],
   "source": [
    "with open('testes.csv', 'r') as csvFile:\n",
    "    testes = csv.reader(csvFile)\n",
    "    for teste in testes:\n",
    "        print('\\n' + str(teste))\n",
    "        file = './result/teste '+teste[0]\n",
    "        data = testa(file, teste[1], teste[2], int(teste[3]))\n",
    "        totalTime = list()\n",
    "        processTime = list()\n",
    "        queueTime = list()\n",
    "\n",
    "        fogCount = dict()\n",
    "        for t in data:\n",
    "            tTime = t['times']['processEnd'] - t['times']['bornTime']\n",
    "            totalTime.append(tTime)\n",
    "            pTime = t['times']['processEnd'] - t['times']['processStart']\n",
    "            processTime.append(pTime)\n",
    "            qTime = t['times']['processStart'] - t['times']['enqueueTime']\n",
    "            queueTime.append(qTime)\n",
    "            try:\n",
    "                fogCount[t['info']['fog']] += 1\n",
    "            except:\n",
    "                fogCount[t['info']['fog']] = 1\n",
    "\n",
    "        print('tempo total', statistics.mean(totalTime)*1000)\n",
    "        print('tempo de processamento', statistics.mean(processTime)*1000)\n",
    "        print('tempo de fila', statistics.mean(queueTime)*1000)"
   ]
  },
  {
   "cell_type": "code",
   "execution_count": null,
   "metadata": {},
   "outputs": [],
   "source": [
    "fogCount"
   ]
  },
  {
   "cell_type": "code",
   "execution_count": null,
   "metadata": {
    "scrolled": true
   },
   "outputs": [],
   "source": [
    "len(data)"
   ]
  },
  {
   "cell_type": "code",
   "execution_count": null,
   "metadata": {},
   "outputs": [],
   "source": []
  },
  {
   "cell_type": "code",
   "execution_count": null,
   "metadata": {},
   "outputs": [],
   "source": []
  },
  {
   "cell_type": "code",
   "execution_count": null,
   "metadata": {},
   "outputs": [],
   "source": []
  }
 ],
 "metadata": {
  "kernelspec": {
   "display_name": "Python 3",
   "language": "python",
   "name": "python3"
  },
  "language_info": {
   "codemirror_mode": {
    "name": "ipython",
    "version": 3
   },
   "file_extension": ".py",
   "mimetype": "text/x-python",
   "name": "python",
   "nbconvert_exporter": "python",
   "pygments_lexer": "ipython3",
   "version": "3.7.3"
  }
 },
 "nbformat": 4,
 "nbformat_minor": 2
}
