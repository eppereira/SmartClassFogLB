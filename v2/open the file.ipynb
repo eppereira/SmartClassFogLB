{
 "cells": [
  {
   "cell_type": "code",
   "execution_count": 34,
   "metadata": {},
   "outputs": [],
   "source": [
    "import json\n",
    "import statistics \n",
    "from sim import *\n"
   ]
  },
  {
   "cell_type": "code",
   "execution_count": 35,
   "metadata": {},
   "outputs": [],
   "source": [
    "file = './result/teste 7'\n",
    "\n",
    "with open(file) as json_file:  \n",
    "    data = json.load(json_file)"
   ]
  },
  {
   "cell_type": "code",
   "execution_count": 36,
   "metadata": {
    "scrolled": false
   },
   "outputs": [
    {
     "data": {
      "text/plain": [
       "{'cpu': 10,\n",
       " 'mem': 20,\n",
       " 'disk': 100,\n",
       " 'net': 1,\n",
       " 'time': 30,\n",
       " 'times': {'bornTime': 1562270774.3060558,\n",
       "  'enqueueTime': 1562270774.3060753,\n",
       "  'dequeueTime': 1562270774.3061655,\n",
       "  'processStart': 1562270774.3099608,\n",
       "  'processEnd': 1562270774.3351302,\n",
       "  'queueLength': 1},\n",
       " 'info': {'sensor': 3, 'seq': 10, 'fog': 0, 'id_teste': './result/teste 7'},\n",
       " 'priority': 1}"
      ]
     },
     "execution_count": 36,
     "metadata": {},
     "output_type": "execute_result"
    }
   ],
   "source": [
    "data[502]"
   ]
  },
  {
   "cell_type": "code",
   "execution_count": 37,
   "metadata": {},
   "outputs": [
    {
     "name": "stdout",
     "output_type": "stream",
     "text": [
      "PRIORIDADE 0\n",
      "tempo total 30.477776260375975\n",
      "tempo de processamento 25.466922855377195\n",
      "tempo de fila 4.986846218109131\n",
      "\n",
      "PRIORIDADE 1\n",
      "tempo total 30.528597145080568\n",
      "tempo de processamento 25.480603733062743\n",
      "tempo de fila 5.023741340637207\n"
     ]
    }
   ],
   "source": [
    "totalTime0 = list()\n",
    "processTime0 = list()\n",
    "queueTime0 = list()\n",
    "\n",
    "totalTime1 = list()\n",
    "processTime1 = list()\n",
    "queueTime1 = list()\n",
    "\n",
    "fogCount = dict()\n",
    "\n",
    "for t in data:\n",
    "    tTime = t['times']['processEnd'] - t['times']['bornTime']\n",
    "    pTime = t['times']['processEnd'] - t['times']['processStart']\n",
    "    qTime = t['times']['processStart'] - t['times']['enqueueTime']\n",
    "\n",
    "    if t['priority'] == 0:\n",
    "        totalTime0.append(tTime)\n",
    "        processTime0.append(pTime)\n",
    "        queueTime0.append(qTime)\n",
    "\n",
    "    if t['priority'] == 1:\n",
    "        totalTime1.append(tTime)\n",
    "        processTime1.append(pTime)\n",
    "        queueTime1.append(qTime)\n",
    "\n",
    "    try:\n",
    "        fogCount[t['info']['fog']] += 1\n",
    "    except:\n",
    "        fogCount[t['info']['fog']] = 1\n",
    "\n",
    "print('PRIORIDADE 0')\n",
    "print('tempo total', statistics.mean(totalTime0)*1000)\n",
    "print('tempo de processamento', statistics.mean(processTime0)*1000)\n",
    "print('tempo de fila', statistics.mean(queueTime0)*1000)\n",
    "\n",
    "\n",
    "print('\\nPRIORIDADE 1')\n",
    "print('tempo total', statistics.mean(totalTime1)*1000)\n",
    "print('tempo de processamento', statistics.mean(processTime1)*1000)\n",
    "print('tempo de fila', statistics.mean(queueTime1)*1000)"
   ]
  },
  {
   "cell_type": "code",
   "execution_count": 38,
   "metadata": {
    "scrolled": true
   },
   "outputs": [
    {
     "data": {
      "text/plain": [
       "25000"
      ]
     },
     "execution_count": 38,
     "metadata": {},
     "output_type": "execute_result"
    }
   ],
   "source": [
    "len(data)"
   ]
  },
  {
   "cell_type": "code",
   "execution_count": null,
   "metadata": {},
   "outputs": [],
   "source": []
  },
  {
   "cell_type": "code",
   "execution_count": null,
   "metadata": {},
   "outputs": [],
   "source": []
  },
  {
   "cell_type": "code",
   "execution_count": null,
   "metadata": {},
   "outputs": [],
   "source": []
  }
 ],
 "metadata": {
  "kernelspec": {
   "display_name": "Python 3",
   "language": "python",
   "name": "python3"
  },
  "language_info": {
   "codemirror_mode": {
    "name": "ipython",
    "version": 3
   },
   "file_extension": ".py",
   "mimetype": "text/x-python",
   "name": "python",
   "nbconvert_exporter": "python",
   "pygments_lexer": "ipython3",
   "version": "3.7.3"
  }
 },
 "nbformat": 4,
 "nbformat_minor": 2
}
