{
 "cells": [
  {
   "cell_type": "code",
   "execution_count": 1,
   "metadata": {},
   "outputs": [],
   "source": [
    "import json\n",
    "import statistics \n",
    "import random\n",
    "import numpy as np\n",
    "import matplotlib.pyplot as plt\n",
    "%matplotlib inline  \n",
    "\n",
    "from sim import *"
   ]
  },
  {
   "cell_type": "code",
   "execution_count": 7,
   "metadata": {},
   "outputs": [],
   "source": [
    "def media(file = './result/teste 3', tempo='total', prioridade=None):\n",
    "    with open(file) as json_file:  \n",
    "        data = json.load(json_file)\n",
    "\n",
    "    totalTime0 = list()\n",
    "    processTime0 = list()\n",
    "    queueTime0 = list()\n",
    "\n",
    "    totalTime1 = list()\n",
    "    processTime1 = list()\n",
    "    queueTime1 = list()\n",
    "\n",
    "    fogCount = dict()\n",
    "\n",
    "    for t in data:\n",
    "        tTime = t['times']['processEnd'] - t['times']['bornTime']\n",
    "        pTime = t['times']['processEnd'] - t['times']['processStart']\n",
    "        qTime = t['times']['processStart'] - t['times']['enqueueTime']\n",
    "\n",
    "        if t['priority'] == 0:\n",
    "            totalTime0.append(tTime)\n",
    "            processTime0.append(pTime)\n",
    "            queueTime0.append(qTime)\n",
    "\n",
    "        if t['priority'] == 1:\n",
    "            totalTime1.append(tTime)\n",
    "            processTime1.append(pTime)\n",
    "            queueTime1.append(qTime)\n",
    "\n",
    "        try:\n",
    "            fogCount[t['info']['fog']] += 1\n",
    "        except:\n",
    "            fogCount[t['info']['fog']] = 1\n",
    "    if prioridade==0:\n",
    "        if tempo == 'total':\n",
    "            return (sum(totalTime0)/len(totalTime0))*1000\n",
    "        if tempo=='proc':\n",
    "            return (sum(processTime0)/len(processTime0)*1000)\n",
    "        if tempo=='queue':\n",
    "            return sum(queueTime0)/len(queueTime0)*1000\n",
    "\n",
    "    if prioridade==1:\n",
    "        if tempo == 'total':\n",
    "            return (sum(totalTime1)/len(totalTime1))*1000\n",
    "        if tempo=='proc':\n",
    "            return (sum(processTime1)/len(processTime1)*1000)\n",
    "        if tempo=='queue':\n",
    "            return sum(queueTime1)/len(queueTime1)*1000"
   ]
  },
  {
   "cell_type": "code",
   "execution_count": 8,
   "metadata": {},
   "outputs": [
    {
     "name": "stdout",
     "output_type": "stream",
     "text": [
      "['1', 'mixed', 'mixed', '10']\n",
      "['2', 'mixed', 'mixed', '30']\n",
      "['3', 'mixed', 'mixed', '80']\n",
      "['4', 'small', 'soft', '100']\n",
      "['5', 'small', 'medium', '100']\n",
      "['6', 'small', 'hard', '100']\n",
      "['7', 'small', 'soft', '1000']\n",
      "['8', 'small', 'medium', '1000']\n",
      "['9', 'small', 'hard', '1000']\n",
      "['10', 'small', 'soft', '500']\n",
      "['11', 'small', 'medium', '500']\n",
      "['12', 'small', 'hard', '500']\n",
      "['13', 'medium', 'soft', '100']\n",
      "['14', 'medium', 'medium', '100']\n",
      "['15', 'medium', 'hard', '100']\n",
      "['16', 'medium', 'soft', '1000']\n",
      "['17', 'medium', 'medium', '1000']\n",
      "['18', 'medium', 'hard', '1000']\n",
      "['19', 'medium', 'soft', '500']\n",
      "['20', 'medium', 'medium', '500']\n",
      "['21', 'medium', 'hard', '500']\n",
      "['22', 'large', 'soft', '100']\n",
      "['23', 'large', 'medium', '100']\n",
      "['24', 'large', 'hard', '100']\n",
      "['25', 'large', 'soft', '1000']\n",
      "['26', 'large', 'medium', '1000']\n",
      "['27', 'large', 'hard', '1000']\n",
      "['28', 'large', 'soft', '500']\n",
      "['29', 'large', 'medium', '500']\n",
      "['30', 'large', 'hard', '500']\n",
      "['31', 'mixed', 'mixed', '100']\n",
      "['32', 'mixed', 'mixed', '1000']\n",
      "['33', 'mixed', 'mixed', '500']\n"
     ]
    }
   ],
   "source": [
    "with open('testes.csv', 'r') as csvFile:\n",
    "    reader = csv.reader(csvFile)\n",
    "    for row in reader:\n",
    "        print(row)\n",
    "csvFile.close()\n"
   ]
  },
  {
   "cell_type": "code",
   "execution_count": 24,
   "metadata": {},
   "outputs": [
    {
     "name": "stdout",
     "output_type": "stream",
     "text": [
      "'teste 1'   'teste 15'\t'teste 20'  'teste 26'\t'teste 31'  'teste 7'\r\n",
      "'teste 10'  'teste 16'\t'teste 21'  'teste 27'\t'teste 32'  'teste 8'\r\n",
      "'teste 11'  'teste 17'\t'teste 22'  'teste 28'\t'teste 33'  'teste 9'\r\n",
      "'teste 12'  'teste 18'\t'teste 23'  'teste 29'\t'teste 4'\r\n",
      "'teste 13'  'teste 19'\t'teste 24'  'teste 3'\t'teste 5'\r\n",
      "'teste 14'  'teste 2'\t'teste 25'  'teste 30'\t'teste 6'\r\n"
     ]
    }
   ],
   "source": [
    "!ls result/"
   ]
  },
  {
   "cell_type": "code",
   "execution_count": 21,
   "metadata": {
    "scrolled": true
   },
   "outputs": [
    {
     "data": {
      "image/png": "[encoded data removed]",
      "text/plain": [
       "<Figure size 576x360 with 1 Axes>"
      ]
     },
     "metadata": {
      "needs_background": "light"
     },
     "output_type": "display_data"
    }
   ],
   "source": [
    "r0 = media(file = './result/teste 4', tempo='total', prioridade=0)\n",
    "r1 = media(file = './result/teste 4', tempo='total', prioridade=1)\n",
    "r2 = media(file = './result/teste 5', tempo='total', prioridade=0)\n",
    "r3 = media(file = './result/teste 5', tempo='total', prioridade=1)\n",
    "r4 = media(file = './result/teste 6', tempo='total', prioridade=0)\n",
    "r5 = media(file = './result/teste 6', tempo='total', prioridade=1)\n",
    "\n",
    "objects = ['soft','medium','hard',]\n",
    "y_pos = np.arange(3)\n",
    "priorityResults = [x for x in [r0, r2,r4]]\n",
    "nopriorityResults = [x for x in [r1,r3,r5]]\n",
    "plt.figure(figsize=(8,5))\n",
    "plt.bar(y_pos, nopriorityResults, align='center',color='b', alpha=0.5, log='True')\n",
    "plt.bar(y_pos, priorityResults, align='center',color='r', alpha=0.5, log='True')\n",
    "plt.xticks(y_pos, objects)\n",
    "plt.ylabel('Tempo total (ms)')\n",
    "plt.xlabel('Numero de sensores conectados')\n",
    "plt.legend(('Baixa prioridade', 'Alta prioridade'))\n",
    "plt.show()"
   ]
  },
  {
   "cell_type": "code",
   "execution_count": 25,
   "metadata": {},
   "outputs": [
    {
     "data": {
      "image/png": "[encoded data removed]",
      "text/plain": [
       "<Figure size 576x360 with 1 Axes>"
      ]
     },
     "metadata": {
      "needs_background": "light"
     },
     "output_type": "display_data"
    }
   ],
   "source": [
    "r0 = media(file = './result/teste 31', tempo='total', prioridade=0)\n",
    "r1 = media(file = './result/teste 31', tempo='total', prioridade=1)\n",
    "r2 = media(file = './result/teste 32', tempo='total', prioridade=0)\n",
    "r3 = media(file = './result/teste 32', tempo='total', prioridade=1)\n",
    "r4 = media(file = './result/teste 33', tempo='total', prioridade=0)\n",
    "r5 = media(file = './result/teste 33', tempo='total', prioridade=1)\n",
    "\n",
    "objects = ['100','1000','500',]\n",
    "y_pos = np.arange(3)\n",
    "priorityResults = [x for x in [r0, r2,r4]]\n",
    "nopriorityResults = [x for x in [r1,r3,r5]]\n",
    "plt.figure(figsize=(8,5))\n",
    "plt.bar(y_pos, nopriorityResults, align='center',color='b', alpha=0.5, log='True')\n",
    "plt.bar(y_pos, priorityResults, align='center',color='r', alpha=0.5, log='True')\n",
    "plt.xticks(y_pos, objects)\n",
    "plt.ylabel('Tempo total (ms)')\n",
    "plt.xlabel('Numero de requisições')\n",
    "plt.legend(('Baixa prioridade', 'Alta prioridade'))\n",
    "plt.show()"
   ]
  }
 ],
 "metadata": {
  "kernelspec": {
   "display_name": "Python 3",
   "language": "python",
   "name": "python3"
  },
  "language_info": {
   "codemirror_mode": {
    "name": "ipython",
    "version": 3
   },
   "file_extension": ".py",
   "mimetype": "text/x-python",
   "name": "python",
   "nbconvert_exporter": "python",
   "pygments_lexer": "ipython3",
   "version": "3.7.1"
  }
 },
 "nbformat": 4,
 "nbformat_minor": 2
}
