{
 "cells": [
  {
   "cell_type": "code",
   "execution_count": 1,
   "metadata": {},
   "outputs": [],
   "source": [
    "import json\n",
    "import statistics \n",
    "\n",
    "\n",
    "with open('./result0_mod') as json_file:  \n",
    "    data = json.load(json_file)"
   ]
  },
  {
   "cell_type": "code",
   "execution_count": 2,
   "metadata": {
    "scrolled": false
   },
   "outputs": [
    {
     "data": {
      "text/plain": [
       "{'cpu': 10,\n",
       " 'mem': 20,\n",
       " 'disk': 100,\n",
       " 'net': 1,\n",
       " 'time': 30,\n",
       " 'times': {'bornTime': 1562180008.7732058,\n",
       "  'enqueueTime': 1562180008.7732494,\n",
       "  'dequeueTime': 1562180008.773435,\n",
       "  'processStart': 1562180008.7752495,\n",
       "  'processEnd': 1562180008.8004174,\n",
       "  'queueLength': 0},\n",
       " 'info': {'sensor': 0, 'seq': 0, 'fog': 8, 'id_teste': '0'},\n",
       " 'priority': 0}"
      ]
     },
     "execution_count": 2,
     "metadata": {},
     "output_type": "execute_result"
    }
   ],
   "source": [
    "data[0]"
   ]
  },
  {
   "cell_type": "code",
   "execution_count": 3,
   "metadata": {},
   "outputs": [],
   "source": [
    "totalTime = list()\n",
    "processTime = list()\n",
    "queueTime = list()\n",
    "\n",
    "fogCount = dict()\n",
    "\n",
    "for t in data:\n",
    "    tTime = t['times']['processEnd'] - t['times']['bornTime']\n",
    "    totalTime.append(tTime)\n",
    "    pTime = t['times']['processEnd'] - t['times']['processStart']\n",
    "    processTime.append(pTime)\n",
    "    qTime = t['times']['processStart'] - t['times']['enqueueTime']\n",
    "    queueTime.append(qTime)\n",
    "    try:\n",
    "        fogCount[t['info']['fog']] += 1\n",
    "    except:\n",
    "        fogCount[t['info']['fog']] = 1"
   ]
  },
  {
   "cell_type": "code",
   "execution_count": 4,
   "metadata": {},
   "outputs": [
    {
     "name": "stdout",
     "output_type": "stream",
     "text": [
      "tempo total 37.65771339178085\n",
      "tempo de processamento 26.162163872718814\n",
      "tempo de fila 11.476989419460295\n"
     ]
    }
   ],
   "source": [
    "print('tempo total', statistics.mean(totalTime)*1000)\n",
    "print('tempo de processamento', statistics.mean(processTime)*1000)\n",
    "print('tempo de fila', statistics.mean(queueTime)*1000)"
   ]
  },
  {
   "cell_type": "code",
   "execution_count": 5,
   "metadata": {},
   "outputs": [
    {
     "data": {
      "text/plain": [
       "{8: 11032,\n",
       " 4: 11083,\n",
       " 5: 11066,\n",
       " 2: 11011,\n",
       " 7: 11076,\n",
       " 3: 11249,\n",
       " 0: 11276,\n",
       " 1: 11162,\n",
       " 6: 11045}"
      ]
     },
     "execution_count": 5,
     "metadata": {},
     "output_type": "execute_result"
    }
   ],
   "source": [
    "fogCount"
   ]
  },
  {
   "cell_type": "code",
   "execution_count": 6,
   "metadata": {
    "scrolled": true
   },
   "outputs": [
    {
     "data": {
      "text/plain": [
       "100000"
      ]
     },
     "execution_count": 6,
     "metadata": {},
     "output_type": "execute_result"
    }
   ],
   "source": [
    "len(data)"
   ]
  },
  {
   "cell_type": "code",
   "execution_count": null,
   "metadata": {},
   "outputs": [],
   "source": []
  }
 ],
 "metadata": {
  "kernelspec": {
   "display_name": "Python 3",
   "language": "python",
   "name": "python3"
  },
  "language_info": {
   "codemirror_mode": {
    "name": "ipython",
    "version": 3
   },
   "file_extension": ".py",
   "mimetype": "text/x-python",
   "name": "python",
   "nbconvert_exporter": "python",
   "pygments_lexer": "ipython3",
   "version": "3.7.1"
  }
 },
 "nbformat": 4,
 "nbformat_minor": 2
}
