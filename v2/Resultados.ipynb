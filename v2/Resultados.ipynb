{
 "cells": [
  {
   "cell_type": "code",
   "execution_count": 1,
   "metadata": {},
   "outputs": [],
   "source": [
    "from sim import *\n",
    "import matplotlib.pyplot as plt\n",
    "import numpy as np\n",
    "%matplotlib inline\n"
   ]
  },
  {
   "cell_type": "markdown",
   "metadata": {},
   "source": [
    "## Teste com 10 nós de fog e 10 requisições por sensor\n",
    "\n",
    "tempo na fila\n",
    "media avg x tempo"
   ]
  },
  {
   "cell_type": "code",
   "execution_count": 2,
   "metadata": {},
   "outputs": [],
   "source": [
    "tests = [100, 1000, 10000]\n",
    "timeResults = list()\n",
    "dropsResults = list()\n",
    "simulations = [Simulation(sensors=i, fogs=10, requests=10) for i in tests]\n",
    "for s in simulations:\n",
    "    s.sim()\n",
    "    timeResults.append(s.timeResult())\n",
    "    dropsResults.append(s.dropResult())"
   ]
  },
  {
   "cell_type": "code",
   "execution_count": 3,
   "metadata": {},
   "outputs": [
    {
     "data": {
      "image/png": "[encoded data removed]",
      "text/plain": [
       "<Figure size 432x288 with 1 Axes>"
      ]
     },
     "metadata": {
      "needs_background": "light"
     },
     "output_type": "display_data"
    }
   ],
   "source": [
    "objects = tests\n",
    "y_pos = np.arange(len(tests))\n",
    "priorityResults = [x[0] for x in timeResults]\n",
    "nopriorityResults = [x[1] for x in timeResults]\n",
    "plt.bar(y_pos, nopriorityResults, align='center',color='b', alpha=0.5)\n",
    "plt.bar(y_pos, priorityResults, align='center',color='r', alpha=0.5)\n",
    "\n",
    "plt.xticks(y_pos, objects)\n",
    "plt.ylabel('Tempo (ms)')\n",
    "plt.xlabel('Numero de sensores conectados')\n",
    "plt.title('Análise do tempo de resposta')\n",
    "plt.legend(('baixa prioridade', 'alta prioridade'))\n",
    "plt.show()"
   ]
  },
  {
   "cell_type": "markdown",
   "metadata": {},
   "source": [
    "## Teste com 100 nós de fog e 10 requisições por sensor"
   ]
  },
  {
   "cell_type": "code",
   "execution_count": 5,
   "metadata": {},
   "outputs": [],
   "source": [
    "tests = [100, 1000, 10000]\n",
    "timeResults = list()\n",
    "dropsResults = list()\n",
    "simulations = [Simulation(sensors=i, fogs=100, requests=10) for i in tests]\n",
    "for s in simulations:\n",
    "    s.sim()  \n",
    "    timeResults.append(s.timeResult())\n",
    "    dropsResults.append(s.dropResult())"
   ]
  },
  {
   "cell_type": "code",
   "execution_count": 6,
   "metadata": {},
   "outputs": [
    {
     "data": {
      "image/png": "[encoded data removed]",
      "text/plain": [
       "<Figure size 432x288 with 1 Axes>"
      ]
     },
     "metadata": {
      "needs_background": "light"
     },
     "output_type": "display_data"
    }
   ],
   "source": [
    "objects = tests\n",
    "y_pos = np.arange(len(tests))\n",
    "priorityResults = [x[0] for x in timeResults]\n",
    "nopriorityResults = [x[1] for x in timeResults]\n",
    "plt.bar(y_pos, nopriorityResults, align='center', color='b', alpha=0.5)\n",
    "plt.bar(y_pos, priorityResults, align='center', color='r', alpha=0.5)\n",
    "\n",
    "plt.xticks(y_pos, objects)\n",
    "plt.ylabel('Tempo de resposta (ms)')\n",
    "plt.xlabel('Numero de sensores conectados')\n",
    "plt.title('Análise do tempo de resposta')\n",
    "plt.legend(('baixa prioridade', 'alta prioridade'))\n",
    "\n",
    "plt.show()"
   ]
  },
  {
   "cell_type": "markdown",
   "metadata": {},
   "source": [
    "## Teste com 10 nós de fog e 100 requisições por sensor"
   ]
  },
  {
   "cell_type": "code",
   "execution_count": null,
   "metadata": {},
   "outputs": [],
   "source": [
    "tests = [100, 1000, 10000]\n",
    "timeResults = list()\n",
    "dropsResults = list()\n",
    "simulations = [Simulation(sensors=i, fogs=10, requests=100) for i in tests]\n",
    "for s in simulations:\n",
    "    s.sim()\n",
    "    timeResults.append(s.timeResult())\n",
    "    dropsResults.append(s.dropResult())"
   ]
  },
  {
   "cell_type": "code",
   "execution_count": null,
   "metadata": {},
   "outputs": [],
   "source": [
    "objects = tests\n",
    "y_pos = np.arange(len(tests))\n",
    "priorityResults = [x[0] for x in timeResults]\n",
    "nopriorityResults = [x[1] for x in timeResults]\n",
    "plt.bar(y_pos, nopriorityResults, align='center', color='b', alpha=0.5)\n",
    "plt.bar(y_pos, priorityResults, align='center', color='r', alpha=0.5)\n",
    "\n",
    "plt.xticks(y_pos, objects)\n",
    "plt.ylabel('Tempo de resposta (ms)')\n",
    "plt.xlabel('Numero de sensores conectados')\n",
    "plt.title('Análise do tempo de resposta')\n",
    "plt.legend(('baixa prioridade', 'alta prioridade'))\n",
    "\n",
    "plt.show()"
   ]
  },
  {
   "cell_type": "code",
   "execution_count": null,
   "metadata": {},
   "outputs": [],
   "source": []
  }
 ],
 "metadata": {
  "kernelspec": {
   "display_name": "Python 3",
   "language": "python",
   "name": "python3"
  },
  "language_info": {
   "codemirror_mode": {
    "name": "ipython",
    "version": 3
   },
   "file_extension": ".py",
   "mimetype": "text/x-python",
   "name": "python",
   "nbconvert_exporter": "python",
   "pygments_lexer": "ipython3",
   "version": "3.7.1"
  }
 },
 "nbformat": 4,
 "nbformat_minor": 2
}
